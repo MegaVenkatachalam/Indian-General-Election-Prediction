{
 "cells": [
  {
   "cell_type": "code",
   "execution_count": 3,
   "metadata": {},
   "outputs": [
    {
     "name": "stdout",
     "output_type": "stream",
     "text": [
      "Mean Squared Error  :  1504170913.24\n",
      "R-squared Value     :  0.8628755444779936\n",
      "Accuracy Percentage :  86.29 %\n"
     ]
    }
   ],
   "source": [
    "import pandas as pd\n",
    "from sklearn.preprocessing import LabelEncoder, MinMaxScaler\n",
    "from sklearn.model_selection import train_test_split\n",
    "from sklearn.feature_selection import SelectKBest, f_regression\n",
    "from sklearn.ensemble import RandomForestRegressor\n",
    "from sklearn.metrics import mean_squared_error, r2_score\n",
    "\n",
    "df=pd.read_csv(\"indian-national-level-election.csv\")\n",
    "\n",
    "label_encoder = LabelEncoder()\n",
    "\n",
    "df['st_name'] = label_encoder.fit_transform(df['st_name'])\n",
    "df['partyabbre'] = label_encoder.fit_transform(df['partyabbre'])\n",
    "df['cand_sex'] = label_encoder.fit_transform(df['cand_sex'])\n",
    "\n",
    "most_frequent_train_gender = df['cand_sex'].mode()[0]\n",
    "df['cand_sex'] = df['cand_sex'].fillna(most_frequent_train_gender)\n",
    "\n",
    "attributes_to_scale = [ 'electors']\n",
    "\n",
    "min_max_scaler = MinMaxScaler()\n",
    "data_normalized = df.copy()\n",
    "df[attributes_to_scale] = min_max_scaler.fit_transform(data_normalized[attributes_to_scale])\n",
    "\n",
    "\n",
    "df=df.drop(columns=['pc_name','pc_type','cand_name','partyname'])\n",
    "\n",
    "x=df.drop(columns=[\"totvotpoll\"])\n",
    "y=df['totvotpoll']\n",
    "\n",
    "selector = SelectKBest(score_func=f_regression, k=6)\n",
    "selector.fit(x, y)\n",
    "selected_features = x.columns[selector.get_support()]\n",
    "\n",
    "X = df[selected_features]  \n",
    "y = df['totvotpoll']  \n",
    "\n",
    "X_train, X_test, y_train, y_test = train_test_split(X, y, test_size=0.3, random_state=42)\n",
    "\n",
    "model = RandomForestRegressor(random_state=42)\n",
    "\n",
    "model.fit(X_train, y_train)\n",
    "\n",
    "y_pred = model.predict(X_test)\n",
    "\n",
    "mse = mean_squared_error(y_test, y_pred)\n",
    "r_squared = r2_score(y_test, y_pred)\n",
    "\n",
    "\n",
    "print(\"Mean Squared Error  : \", round(mse,2))\n",
    "print(\"R-squared Value     : \", r_squared)\n",
    "print(\"Accuracy Percentage : \", round(100*r_squared,2,),\"%\")\n"
   ]
  }
 ],
 "metadata": {
  "kernelspec": {
   "display_name": "Python 3",
   "language": "python",
   "name": "python3"
  },
  "language_info": {
   "codemirror_mode": {
    "name": "ipython",
    "version": 3
   },
   "file_extension": ".py",
   "mimetype": "text/x-python",
   "name": "python",
   "nbconvert_exporter": "python",
   "pygments_lexer": "ipython3",
   "version": "3.11.0"
  }
 },
 "nbformat": 4,
 "nbformat_minor": 2
}
